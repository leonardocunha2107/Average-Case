{
 "cells": [
  {
   "cell_type": "code",
   "execution_count": 2,
   "metadata": {},
   "outputs": [],
   "source": [
    "import torch\n",
    "import numpy as np\n",
    "import torch.nn as nn\n",
    "import matplotlib.pyplot as plt\n",
    "from math import sqrt"
   ]
  },
  {
   "cell_type": "code",
   "execution_count": 11,
   "metadata": {},
   "outputs": [],
   "source": [
    "\n",
    "class FOM(torch.optim.Optimizer):\n",
    "\n",
    "    def __init__(self, params,hm_generator):\n",
    "        super(FOM, self).__init__(params, {})\n",
    "        self.gen=hm_generator\n",
    "\n",
    "    def __setstate__(self, state):\n",
    "        super(SGD, self).__setstate__(state)\n",
    "        for group in self.param_groups:\n",
    "            group.setdefault('nesterov', False)\n",
    "\n",
    "    @torch.no_grad()\n",
    "    def step(self, closure=None):\n",
    "        \"\"\"Performs a single optimization step.\n",
    "        Args:\n",
    "            closure (callable, optional): A closure that reevaluates the model\n",
    "                and returns the loss.\n",
    "        \"\"\"\n",
    "        loss = None\n",
    "        if closure is not None:\n",
    "            with torch.enable_grad():\n",
    "                loss = closure()\n",
    "        m,h,_=next(self.gen)\n",
    "        m=m-1\n",
    "        for group in self.param_groups:\n",
    "\n",
    "            for p in group['params']:\n",
    "                if p.grad is not None:\n",
    "\n",
    "\n",
    "                    state = self.state[p]\n",
    "                    buf=state.get('momentum_buffer',None)\n",
    "                    \n",
    "                    dp=p.grad.mul(h)\n",
    "                    if buf is not None:\n",
    "                        dp.add_(buf,alpha=m)\n",
    "                    state['momentum_buffer']=dp\n",
    "                    p.add_(dp)\n",
    "\n",
    "        return loss\n",
    "\n",
    "def gd_gen(lr=1e-4,m=0):\n",
    "    while True:\n",
    "        yield m+1,-lr,None\n",
    "\n"
   ]
  },
  {
   "cell_type": "code",
   "execution_count": 18,
   "metadata": {},
   "outputs": [],
   "source": [
    "class GoodModel(nn.Module):\n",
    "    def __init__(self,h,d_in,d_out):\n",
    "        super(GoodModel,self).__init__()\n",
    "        self.fc1=nn.Linear(d_in,h,False)\n",
    "        self.fc2=nn.Linear(h,d_out,False)\n",
    "\n",
    "        nn.init.orthogonal_(self.fc1.weight,gain=sqrt(1))\n",
    "        nn.init.orthogonal_(self.fc2.weight,gain=sqrt(1))\n",
    "    def forward(self,x):\n",
    "        return self.fc2(self.fc1(x))\n",
    "    \n"
   ]
  },
  {
   "cell_type": "code",
   "execution_count": 9,
   "metadata": {},
   "outputs": [],
   "source": [
    "import torch.nn as nn\n",
    "from torchvision.datasets import MNIST\n",
    "import torchvision\n",
    "from optim import *\n",
    "\n",
    "d=28*28\n",
    "n=d\n",
    "h=d\n",
    "\n",
    "\n",
    "dataset=torch.utils.data.Subset(MNIST('data',download=True,transform=torchvision.transforms.ToTensor()),range(1,n+1))\n",
    "dl=torch.utils.data.DataLoader(dataset,batch_size=d,shuffle=True,)\n",
    "x,y=next(iter(dl))\n",
    "#x,y=x.cuda(),y.cuda()\n",
    "x=x.view(x.shape[0],-1)"
   ]
  },
  {
   "cell_type": "code",
   "execution_count": 16,
   "metadata": {},
   "outputs": [],
   "source": [
    "\n",
    "log1=[]\n",
    "log2=[]\n",
    "log3=[]\n",
    "jacobi=residual_wrapgen(shift_wrapgen(jacobi_basegen(1/2,5/2),1e-5,-1))\n",
    "for gen,log in zip([gd_gen(1e-2,0.3),gd_gen(1e-2,0),jacobi],[log1,log2,log3]):\n",
    "    \n",
    "\n",
    "    #model=nn.Sequential(nn.Linear(d,h),nn.Linear(h,10))\n",
    "    model=GoodModel(h,d,10)\n",
    "    optim=FOM(model.parameters(),gen)\n",
    "    #optim=torch.optim.SGD(model.parameters(),lr=1e-2,momentum=0.7)\n",
    "    for epoch in range(200):\n",
    "        logits=model(x)\n",
    "        loss=nn.functional.l2(logits,y)\n",
    "        loss.backward()\n",
    "        log.append(loss.item())\n",
    "        optim.step()\n",
    "\n"
   ]
  },
  {
   "cell_type": "code",
   "execution_count": 17,
   "metadata": {},
   "outputs": [
    {
     "data": {
      "image/png": "[encoded data removed]",
      "text/plain": [
       "<Figure size 432x288 with 1 Axes>"
      ]
     },
     "metadata": {
      "needs_background": "light"
     },
     "output_type": "display_data"
    }
   ],
   "source": [
    "plt.plot(log1,c='r')\n",
    "plt.plot(log2,c='b')\n",
    "plt.plot(log3,c='k')\n",
    "plt.yscale('log')"
   ]
  }
 ],
 "metadata": {
  "kernelspec": {
   "display_name": "Python 3",
   "language": "python",
   "name": "python3"
  },
  "language_info": {
   "codemirror_mode": {
    "name": "ipython",
    "version": 3
   },
   "file_extension": ".py",
   "mimetype": "text/x-python",
   "name": "python",
   "nbconvert_exporter": "python",
   "pygments_lexer": "ipython3",
   "version": "3.8.5"
  }
 },
 "nbformat": 4,
 "nbformat_minor": 4
}
