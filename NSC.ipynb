{
 "cells": [
  {
   "cell_type": "code",
   "execution_count": 154,
   "metadata": {},
   "outputs": [],
   "source": [
    "import numpy as np\n",
    "import matplotlib.pyplot as plt\n",
    "import torch\n",
    "from tqdm import tqdm\n",
    "from scipy.linalg import eigh\n",
    "\n",
    "\n",
    "#tqdm=aux"
   ]
  },
  {
   "cell_type": "code",
   "execution_count": null,
   "metadata": {},
   "outputs": [],
   "source": [
    "%history"
   ]
  },
  {
   "cell_type": "code",
   "execution_count": 146,
   "metadata": {},
   "outputs": [],
   "source": [
    "class Log:\n",
    "    def __init__(self):\n",
    "        self.log={'grad': [],'x':[],'f':[]}\n",
    "    def __getitem__(self,k):\n",
    "        return np.asarray(self.log[k])\n",
    "    def to_numpy(self):\n",
    "        a=np.stack(np.asarray(v) for v in self.log.values())\n",
    "        return a,self.log.keys()\n",
    "    def __call__(self,f,x): \n",
    "        \n",
    "        self.log['grad'].append(np.linalg.norm(f.grad(x))**2)\n",
    "        self.log['x'].append(np.linalg.norm(x)**2)\n",
    "        self.log['f'].append(np.linalg.norm(f(x)**2))\n",
    "class RandomQuadratic:\n",
    "    def __init__(self,r=1,sigma=1,n=500):\n",
    "        m=int(n*r)\n",
    "        X=np.random.normal(size=(m,n),scale=sigma)\n",
    "        self.A=1/n*(X@X.T)\n",
    "        self.x0=np.random.normal(size=(m,1))\n",
    "        self.L=eigh(self.A,eigvals_only=True,subset_by_index=[m-1,m-1])\n",
    "        \n",
    "        \n",
    "    def plot(self):\n",
    "        ev,_=np.linalg.eigh(self.A)\n",
    "        plt.hist(ev[ev<100],bins=30)\n",
    "        plt.show()\n",
    "    \n",
    "    def __call__(self,x):\n",
    "        return 1/2* x.T@self.A@x\n",
    "    \n",
    "    def grad(self,x):\n",
    "        return self.A@x\n",
    "    \n",
    "    \n",
    "class FeaturesQuadratic(Quadratic):\n",
    "    def __init__(self,X,y,torch=False):\n",
    "        self.X=X/np.sqrt(X.shape[0])\n",
    "        self.A=self.X.T@self.X\n",
    "        if torch:\n",
    "            self.x0=torch.randn((self.X.shape[1],1),device='cuda')\n",
    "        else:\n",
    "            self.x0=np.random.normal(size=(self.X.shape[1],1))\n",
    "        self.y=y[:,None]\n",
    "        m=len(self.A)\n",
    "        self.L=eigh(self.A,eigvals_only=True,subset_by_index=[m-1,m-1])\n",
    "        \n",
    "    def plot(self):\n",
    "        ev,_=np.linalg.eigh(self.A)\n",
    "        plt.hist(ev[ev<100],bins=30)\n",
    "        plt.show()\n",
    "    \n",
    "    def __call__(self,x):\n",
    "        return 1/2*np.linalg.norm(self.X@x-self.y)**2\n",
    "    \n",
    "    def grad(self,x):\n",
    "        return self.X.T@(self.X@x-self.y)\n",
    "    \n",
    "def nesterov(f,niter=200,L=4):\n",
    "    x=0\n",
    "    y=f.x0\n",
    "    alpha=1/L\n",
    "    log=Log()\n",
    "    for k in tqdm(range(1,niter+1)):\n",
    "        beta=k/(k+3)\n",
    "        x1=y-alpha*f.grad(y)\n",
    "        y=x1+beta*(x1-x)\n",
    "        x=x1\n",
    "        #x=x-alpha*f.grad(x)\n",
    "        ##log\n",
    "        log(f,x)\n",
    "        \n",
    "    return log,x\n",
    "\n",
    "def gd(f,niter=200,L=4):\n",
    "    x=f.x0\n",
    "    alpha=1/L\n",
    "    log=Log()\n",
    "    for k in tqdm(range(1,niter+1)):\n",
    "        x=x-alpha*f.grad(x)\n",
    "        log(f,x)\n",
    "        \n",
    "    return log,x\n",
    "\n",
    "def cg(f,niter=200):\n",
    "    ## as in https://www.cs.cmu.edu/~quake-papers/painless-conjugate-gradient.pdf p.32\n",
    "    x=f.x0\n",
    "    d=r=-f.grad(x)\n",
    "    A=f.A\n",
    "    log=Log()\n",
    "    for i in range(1,niter+1):\n",
    "        alpha=r.T@r/(d.T@A@d)\n",
    "        x=x+alpha*d\n",
    "        \n",
    "        r1=-f.grad(x)\n",
    "        beta=r1.T@r1/(r.T@r)\n",
    "        r=r1\n",
    "        \n",
    "        d=r+beta*d\n",
    "        \n",
    "        log(f,x)\n",
    "    \n",
    "    return log,x\n",
    "def mp_momentum(f,niter=200,sigma=1,r=1):\n",
    "    x1=x=f.x0\n",
    "    delta=0\n",
    "    rho=(1+r)/np.sqrt(r)\n",
    "    log=Log()\n",
    "    \n",
    "    for t in range(1,niter+1):\n",
    "        delta=-1/(rho+delta)\n",
    "        \n",
    "        aux=x\n",
    "        x=x+(1+rho*delta)*(x1-x)+delta/(np.sqrt(r)*sigma**2)*f.grad(x)\n",
    "        x1=aux\n",
    "        \n",
    "        log(f,x)        \n",
    "    return log,x\n",
    "\n",
    "\n",
    "def jacobi_momentum(f,niter=200,b=2,L=4):\n",
    "    x1=x=f.x0\n",
    "    delta=0\n",
    "    log=Log()\n",
    "    for t in tqdm(range(1,niter+1)):\n",
    "        t2=t**2\n",
    "        alpha=-(b+2*t)*(2*b**2+4*b*t+b+4*t2-1)\n",
    "        alpha/=2*t*(b+t+1)*(b+2*t-1)\n",
    "        \n",
    "        beta=(b+2*t)*(b+2*t+1)/(L*t*(b+t+1))\n",
    "        \n",
    "        gamma=-(t-1/2)*(b+t-1/2)*(b+2*t+1)\n",
    "        gamma/=t*(b+t+1)*(b+2*t-1)\n",
    "        \n",
    "        delta=1/(alpha+gamma*delta)\n",
    "        \n",
    "        a,bt=delta*alpha,delta*beta\n",
    "        \n",
    "        aux=x\n",
    "        x=x+(1-a)*(x1-x)+bt*f.grad(x)\n",
    "        x1=aux\n",
    "        \n",
    "        log(f,x)        \n",
    "    return log,x\n",
    "\n"
   ]
  },
  {
   "cell_type": "code",
   "execution_count": 147,
   "metadata": {},
   "outputs": [
    {
     "name": "stdout",
     "output_type": "stream",
     "text": [
      "[3.86648687]\n",
      "[3.92152317]\n",
      "[4.03236811]\n",
      "[3.9472663]\n",
      "[3.91388577]\n",
      "[3.96523446]\n",
      "[3.98248143]\n",
      "[3.91193053]\n",
      "[3.84839272]\n",
      "[3.8573666]\n"
     ]
    }
   ],
   "source": [
    "for _ in range(10):\n",
    "    f=RandomQuadratic()\n",
    "    print(f.L)"
   ]
  },
  {
   "cell_type": "code",
   "execution_count": 136,
   "metadata": {},
   "outputs": [
    {
     "data": {
      "text/plain": [
       "[<matplotlib.lines.Line2D at 0x1f596718e50>]"
      ]
     },
     "execution_count": 136,
     "metadata": {},
     "output_type": "execute_result"
    },
    {
     "data": {
      "image/png": "[encoded data removed]",
      "text/plain": [
       "<Figure size 432x288 with 1 Axes>"
      ]
     },
     "metadata": {
      "needs_background": "light"
     },
     "output_type": "display_data"
    }
   ],
   "source": [
    "f=RandomQuadratic()\n",
    "\n",
    "\n",
    "log,_=cg(f)\n",
    "plt.semilogy(log['grad'])\n",
    "        "
   ]
  },
  {
   "cell_type": "code",
   "execution_count": 38,
   "metadata": {},
   "outputs": [],
   "source": []
  },
  {
   "cell_type": "markdown",
   "metadata": {},
   "source": [
    "## MP distribution"
   ]
  },
  {
   "cell_type": "code",
   "execution_count": 163,
   "metadata": {},
   "outputs": [
    {
     "name": "stderr",
     "output_type": "stream",
     "text": [
      "100%|██████████████████████████████████████████████████████████████████████████████| 200/200 [00:00<00:00, 7427.03it/s]\n",
      "C:\\Users\\leona\\anaconda3\\lib\\site-packages\\IPython\\core\\interactiveshell.py:3418: FutureWarning: arrays to stack must be passed as a \"sequence\" type such as list or tuple. Support for non-sequence iterables such as generators is deprecated as of NumPy 1.16 and will raise an error in the future.\n",
      "  exec(code_obj, self.user_global_ns, self.user_ns)\n",
      "100%|██████████████████████████████████████████████████████████████████████████████| 200/200 [00:00<00:00, 8355.52it/s]\n",
      "100%|██████████████████████████████████████████████████████████████████████████████| 200/200 [00:00<00:00, 8356.02it/s]\n",
      "100%|██████████████████████████████████████████████████████████████████████████████| 200/200 [00:00<00:00, 7427.10it/s]\n",
      "100%|██████████████████████████████████████████████████████████████████████████████| 200/200 [00:00<00:00, 5570.46it/s]\n",
      "100%|██████████████████████████████████████████████████████████████████████████████| 200/200 [00:00<00:00, 8355.19it/s]\n"
     ]
    },
    {
     "data": {
      "text/plain": [
       "<matplotlib.legend.Legend at 0x1f5986521f0>"
      ]
     },
     "execution_count": 163,
     "metadata": {},
     "output_type": "execute_result"
    },
    {
     "data": {
      "image/png": "[encoded data removed]",
      "text/plain": [
       "<Figure size 432x288 with 1 Axes>"
      ]
     },
     "metadata": {
      "needs_background": "light"
     },
     "output_type": "display_data"
    }
   ],
   "source": [
    "methods,tags=[jacobi_momentum,nesterov],['jacobi','nesterov']\n",
    "logs=[[] for _ in range(len(methods))]\n",
    "for _ in range(3):\n",
    "    for m,l in zip(methods,logs):\n",
    "        f= RandomQuadratic(r=1)\n",
    "        l.append(m(f)[0].to_numpy()[0])\n",
    "\n",
    "logs=[np.stack(l) for l in logs]\n",
    "for a, tag in zip(logs,tags):\n",
    "    #a=np.log10(a)\n",
    "    m,std=a.mean(0),a.std(0)\n",
    "    #plt.fill_between(np.arange(len(m[1])),m[1]-std[0],m[0]+std[0])\n",
    "    plt.plot(m[0],label=tag)\n",
    "plt.yscale('log')\n",
    "plt.legend()"
   ]
  },
  {
   "cell_type": "code",
   "execution_count": 158,
   "metadata": {},
   "outputs": [
    {
     "data": {
      "text/plain": [
       "(5, 3, 200)"
      ]
     },
     "execution_count": 158,
     "metadata": {},
     "output_type": "execute_result"
    }
   ],
   "source": [
    "logs[0].shape"
   ]
  },
  {
   "cell_type": "markdown",
   "metadata": {},
   "source": [
    "## Inception Features"
   ]
  },
  {
   "cell_type": "code",
   "execution_count": 5,
   "metadata": {},
   "outputs": [],
   "source": [
    "import torch\n",
    "train_y=torch.load('data/labels_cifar_train')\n",
    "train_data=torch.load('data/cifar_train')"
   ]
  },
  {
   "cell_type": "code",
   "execution_count": 58,
   "metadata": {},
   "outputs": [
    {
     "data": {
      "text/plain": [
       "array([6., 9., 9., ..., 9., 1., 1.])"
      ]
     },
     "execution_count": 58,
     "metadata": {},
     "output_type": "execute_result"
    }
   ],
   "source": [
    "train_y"
   ]
  },
  {
   "cell_type": "code",
   "execution_count": 137,
   "metadata": {},
   "outputs": [
    {
     "data": {
      "image/png": "[encoded data removed]",
      "text/plain": [
       "<Figure size 432x288 with 1 Axes>"
      ]
     },
     "metadata": {
      "needs_background": "light"
     },
     "output_type": "display_data"
    }
   ],
   "source": [
    "import numpy as np\n",
    "N=8000\n",
    "perm=np.random.permutation(np.arange(len(train_data)))\n",
    "sample=train_data[perm[:N]]\n",
    "sample=(sample-sample.mean(0))/sample.std(0)\n",
    "_,evs,_=np.linalg.svd(sample)\n",
    "plt.hist(evs[evs<100],bins=100,color='b')\n",
    "nsample=(sample-sample.mean(0))/sample.std()\n",
    "\n",
    "#_,evs,_=np.linalg.svd(sample)\n",
    "#plt.hist(evs[evs<100],bins=100,color='r')"
   ]
  },
  {
   "cell_type": "code",
   "execution_count": 138,
   "metadata": {},
   "outputs": [
    {
     "data": {
      "text/plain": [
       "(array([167., 465., 354., 241., 159., 108.,  81.,  64.,  54.,  43.,  41.,\n",
       "         33.,  29.,  24.,  21.,  18.,  16.,  16.,  11.,  11.,  11.,   8.,\n",
       "          7.,   6.,   4.,   7.,   5.,   4.,   2.,   3.,   4.,   1.,   3.,\n",
       "          1.,   2.,   2.,   1.,   1.,   1.,   2.,   2.,   0.,   1.,   0.,\n",
       "          1.,   1.,   1.,   1.,   0.,   1.,   1.,   0.,   0.,   0.,   0.,\n",
       "          1.,   0.,   0.,   0.,   2.,   0.,   0.,   0.,   1.,   0.,   0.,\n",
       "          0.,   0.,   0.,   1.,   0.,   1.,   0.,   0.,   0.,   0.,   0.,\n",
       "          0.,   0.,   0.,   0.,   0.,   0.,   0.,   1.,   0.,   0.,   0.,\n",
       "          0.,   0.,   0.,   0.,   0.,   0.,   0.,   0.,   0.,   0.,   0.,\n",
       "          1.]),\n",
       " array([  6.66231062,  15.63314628,  24.60398195,  33.57481761,\n",
       "         42.54565328,  51.51648895,  60.48732461,  69.45816028,\n",
       "         78.42899595,  87.39983161,  96.37066728, 105.34150294,\n",
       "        114.31233861, 123.28317428, 132.25400994, 141.22484561,\n",
       "        150.19568127, 159.16651694, 168.13735261, 177.10818827,\n",
       "        186.07902394, 195.0498596 , 204.02069527, 212.99153094,\n",
       "        221.9623666 , 230.93320227, 239.90403793, 248.8748736 ,\n",
       "        257.84570927, 266.81654493, 275.7873806 , 284.75821626,\n",
       "        293.72905193, 302.6998876 , 311.67072326, 320.64155893,\n",
       "        329.61239459, 338.58323026, 347.55406593, 356.52490159,\n",
       "        365.49573726, 374.46657293, 383.43740859, 392.40824426,\n",
       "        401.37907992, 410.34991559, 419.32075126, 428.29158692,\n",
       "        437.26242259, 446.23325825, 455.20409392, 464.17492959,\n",
       "        473.14576525, 482.11660092, 491.08743658, 500.05827225,\n",
       "        509.02910792, 517.99994358, 526.97077925, 535.94161491,\n",
       "        544.91245058, 553.88328625, 562.85412191, 571.82495758,\n",
       "        580.79579324, 589.76662891, 598.73746458, 607.70830024,\n",
       "        616.67913591, 625.64997157, 634.62080724, 643.59164291,\n",
       "        652.56247857, 661.53331424, 670.50414991, 679.47498557,\n",
       "        688.44582124, 697.4166569 , 706.38749257, 715.35832824,\n",
       "        724.3291639 , 733.29999957, 742.27083523, 751.2416709 ,\n",
       "        760.21250657, 769.18334223, 778.1541779 , 787.12501356,\n",
       "        796.09584923, 805.0666849 , 814.03752056, 823.00835623,\n",
       "        831.97919189, 840.95002756, 849.92086323, 858.89169889,\n",
       "        867.86253456, 876.83337022, 885.80420589, 894.77504156,\n",
       "        903.74587722]),\n",
       " <BarContainer object of 100 artists>)"
      ]
     },
     "execution_count": 138,
     "metadata": {},
     "output_type": "execute_result"
    },
    {
     "data": {
      "image/png": "[encoded data removed]",
      "text/plain": [
       "<Figure size 432x288 with 1 Axes>"
      ]
     },
     "metadata": {
      "needs_background": "light"
     },
     "output_type": "display_data"
    }
   ],
   "source": [
    "plt.hist(evs,bins=100,color='b')\n"
   ]
  },
  {
   "cell_type": "code",
   "execution_count": null,
   "metadata": {},
   "outputs": [],
   "source": [
    "t=np.linspace(0.1,100,1000)\n",
    "egvs=evs[evs<100]\n",
    "mp=np.sqrt((100-t)/t)\n",
    "plt.hist(egvs,bins=100)\n",
    "plt.plot(t,mp)"
   ]
  },
  {
   "cell_type": "code",
   "execution_count": 119,
   "metadata": {},
   "outputs": [],
   "source": [
    "N=8000\n",
    "perm=np.random.permutation(np.arange(len(train_data)))\n",
    "sample_x=train_data[perm[:N]]\n",
    "sample_y=train_y[perm[:N]]\n",
    "f=FeaturesQuadratic(sample_x,sample_y)\n",
    "#f.plot()"
   ]
  },
  {
   "cell_type": "code",
   "execution_count": 116,
   "metadata": {},
   "outputs": [
    {
     "data": {
      "text/plain": [
       "array([17.06179184,  3.77166368,  2.89447399,  2.56368501,  2.43707314,\n",
       "        2.12601258,  2.08103682,  1.98463694,  1.76684252,  1.71113241,\n",
       "        1.63026029,  1.6164343 ,  1.5493469 ,  1.50744668,  1.49459119,\n",
       "        1.44793887,  1.40813196,  1.40447398,  1.31879862,  1.3111373 ,\n",
       "        1.30583274,  1.24961971,  1.24510014,  1.23409002,  1.18977614,\n",
       "        1.1779173 ,  1.16794107,  1.13556404,  1.12775482,  1.09680336,\n",
       "        1.08417203,  1.07245297,  1.04838947,  1.03992362,  1.02859104,\n",
       "        1.00731895,  0.99679464,  0.99436983,  0.98140284,  0.97548197,\n",
       "        0.9631026 ,  0.9516755 ,  0.94598225,  0.93867832,  0.92680299,\n",
       "        0.92239862,  0.90973419,  0.90297373,  0.89930026,  0.89127418,\n",
       "        0.87328922,  0.87178929,  0.85826243,  0.85373019,  0.846113  ,\n",
       "        0.84062659,  0.83708945,  0.82943015,  0.82656857,  0.81962767,\n",
       "        0.80656204,  0.80305889,  0.7985843 ,  0.78965294,  0.78035434,\n",
       "        0.77616935,  0.76739964,  0.76548208,  0.75512564,  0.7527262 ,\n",
       "        0.74926356,  0.74484644,  0.73939259,  0.73411672,  0.72866943,\n",
       "        0.72224111,  0.71912803,  0.71204923,  0.70692296,  0.706123  ,\n",
       "        0.70134827,  0.697213  ,  0.69338921,  0.68939136,  0.68529876,\n",
       "        0.68483845,  0.68119441,  0.67576058,  0.67343684,  0.6717664 ,\n",
       "        0.66750434,  0.66550674,  0.66135096,  0.65871771,  0.65605702,\n",
       "        0.65010117,  0.64853819,  0.64689619,  0.64324139,  0.64033807,\n",
       "        0.63809054,  0.63712803,  0.63269516,  0.6301042 ,  0.62450374,\n",
       "        0.62239643,  0.62070369,  0.6177931 ,  0.61511789,  0.61072446,\n",
       "        0.6084165 ,  0.60667519,  0.60222597,  0.59871903,  0.5957018 ,\n",
       "        0.59315697,  0.59080305,  0.58768198,  0.58632947,  0.58099413,\n",
       "        0.58041072,  0.57750003,  0.5752497 ,  0.57218283,  0.56759422,\n",
       "        0.56702453,  0.56138996,  0.56013977,  0.55718086,  0.55435378,\n",
       "        0.55127602,  0.54820799,  0.54622554,  0.54488537,  0.54241589,\n",
       "        0.5413305 ,  0.53820193,  0.53531485,  0.53257699,  0.53048913,\n",
       "        0.52826549,  0.5276735 ,  0.52482028,  0.52465223,  0.52236284,\n",
       "        0.51979894,  0.5181817 ,  0.5168539 ,  0.51491624,  0.51150755,\n",
       "        0.51032645,  0.50904269,  0.50558563,  0.50247763,  0.50072009,\n",
       "        0.50034194,  0.4969003 ,  0.49434839,  0.49369457,  0.4906321 ,\n",
       "        0.49004731,  0.48771353,  0.48596599,  0.48511866,  0.4811602 ,\n",
       "        0.47979531,  0.47951418,  0.4764941 ,  0.4743913 ,  0.47252764,\n",
       "        0.46986977,  0.468296  ,  0.4664052 ,  0.46343797,  0.46178469,\n",
       "        0.46077265,  0.46035393,  0.45868887,  0.45701491,  0.4560309 ,\n",
       "        0.45326982,  0.45203005,  0.45076488,  0.45017118,  0.44861719,\n",
       "        0.44745572,  0.44548269,  0.44265303,  0.44167487,  0.44072058,\n",
       "        0.43697336,  0.43596692,  0.43458604,  0.43343694,  0.43200685,\n",
       "        0.43017968,  0.42854109,  0.42633097,  0.42572637,  0.42383499,\n",
       "        0.42333934,  0.42124967,  0.4192675 ,  0.4182717 ,  0.41637374,\n",
       "        0.41442678,  0.41307023,  0.41144121,  0.41128608,  0.4097001 ,\n",
       "        0.40927549,  0.40717238,  0.40663903,  0.40506357,  0.40313014,\n",
       "        0.40073768,  0.39960485,  0.3990083 ,  0.39805965,  0.3963617 ,\n",
       "        0.39452621,  0.39371269,  0.3931325 ,  0.39101322,  0.39026211,\n",
       "        0.38896837,  0.38776594,  0.38633449,  0.3852321 ,  0.38335799,\n",
       "        0.38204685,  0.38089392,  0.37956837,  0.37826137,  0.37769756,\n",
       "        0.37656739,  0.37565424,  0.37323339,  0.37299787,  0.37122625,\n",
       "        0.37065816,  0.37000456,  0.36930371,  0.3676517 ,  0.36690636,\n",
       "        0.36639853,  0.36497914,  0.36367423,  0.36302747,  0.36270107,\n",
       "        0.36130288,  0.35949924,  0.35881807,  0.3583623 ,  0.35782983,\n",
       "        0.35662197,  0.35510809,  0.35366614,  0.35167524,  0.35082015,\n",
       "        0.34937382,  0.34827881,  0.34782912,  0.34700497,  0.34625469,\n",
       "        0.34529609,  0.34392824,  0.34309861,  0.34180361,  0.34091534,\n",
       "        0.33982709,  0.33896702,  0.33836887,  0.33748209,  0.33567405,\n",
       "        0.33473106,  0.33459175,  0.33338981,  0.33277467,  0.3322992 ,\n",
       "        0.33153693,  0.33040577,  0.32878198,  0.32771389,  0.32726604,\n",
       "        0.32657815,  0.32451363,  0.32389845,  0.32353221,  0.32223951,\n",
       "        0.3209294 ,  0.3205344 ,  0.31870392,  0.31815462,  0.31737599,\n",
       "        0.31640366,  0.31612438,  0.31486837,  0.31434902,  0.31403212,\n",
       "        0.31292043,  0.3115998 ,  0.31081332,  0.3098167 ,  0.3087383 ,\n",
       "        0.30783125,  0.30677057,  0.3060156 ,  0.30493114,  0.3044163 ,\n",
       "        0.30341015,  0.30214408,  0.30169804,  0.30105512,  0.30004536,\n",
       "        0.29967395,  0.29904234,  0.2986612 ,  0.29794159,  0.29718351,\n",
       "        0.29609471,  0.29517519,  0.29431332,  0.29412471,  0.29248081,\n",
       "        0.29132256,  0.29079124,  0.29056571,  0.28955327,  0.28880315,\n",
       "        0.28817683,  0.28780541,  0.28698472,  0.28674604,  0.28553219,\n",
       "        0.28470441,  0.2837787 ,  0.28263137,  0.28214891,  0.2808386 ,\n",
       "        0.28006417,  0.27957393,  0.27850434,  0.27781488,  0.27744241,\n",
       "        0.27692935,  0.27604361,  0.27525878,  0.27474662,  0.27351415,\n",
       "        0.27288857,  0.27194862,  0.27165098,  0.27067587,  0.27006926,\n",
       "        0.26947   ,  0.26919728,  0.26796762,  0.26676918,  0.26660024,\n",
       "        0.26598353,  0.26557207,  0.26491989,  0.26455315,  0.26365885,\n",
       "        0.26290165,  0.26259115,  0.26162442,  0.26103476,  0.26018812,\n",
       "        0.25922261,  0.25900898,  0.2580398 ,  0.25763253,  0.25739597,\n",
       "        0.25659273,  0.25641796,  0.25487526,  0.25435746,  0.25262292,\n",
       "        0.25205658,  0.25188342,  0.25168245,  0.25152077,  0.25029094,\n",
       "        0.249563  ,  0.24891146,  0.2483542 ,  0.24785173,  0.24751889,\n",
       "        0.24666888,  0.24637164,  0.24532861,  0.24435658,  0.24402387,\n",
       "        0.24358849,  0.24309714,  0.24251558,  0.24184067,  0.24112358,\n",
       "        0.24090984,  0.23949372,  0.23933159,  0.23875966,  0.23802808,\n",
       "        0.23741856,  0.23719714,  0.23658652,  0.23627161,  0.23561123,\n",
       "        0.23488674,  0.23435967,  0.23372766,  0.23322397,  0.23178047,\n",
       "        0.23132032,  0.23079373,  0.23052145,  0.23016201,  0.22994298,\n",
       "        0.22915332,  0.22862213,  0.22783639,  0.22781255,  0.22696584,\n",
       "        0.22645317,  0.2261515 ,  0.22538006,  0.22488484,  0.22414235,\n",
       "        0.22368513,  0.22331653,  0.22304035,  0.2223656 ,  0.22213726,\n",
       "        0.2207825 ,  0.22030368,  0.22004389,  0.2194273 ,  0.21923263,\n",
       "        0.21871111,  0.2183029 ,  0.21747757,  0.21675927,  0.21598341,\n",
       "        0.21593344,  0.21564508,  0.21482596,  0.21459602,  0.21422054,\n",
       "        0.21314475,  0.21291296,  0.21233752,  0.2118978 ,  0.21151944,\n",
       "        0.21096005,  0.21054096,  0.21010127,  0.20898246,  0.20875431,\n",
       "        0.20820297,  0.2081642 ,  0.20766152,  0.20699447,  0.20603814,\n",
       "        0.20567706,  0.20522995,  0.20466011,  0.20422023,  0.20389867,\n",
       "        0.20355965,  0.20329502,  0.20265377,  0.20194858,  0.20163333,\n",
       "        0.20104751,  0.20072988,  0.20035114,  0.19998772,  0.19941306,\n",
       "        0.19882765,  0.1981725 ,  0.19782163,  0.19755904,  0.19697162,\n",
       "        0.19658258,  0.19599757,  0.19581672,  0.19544279,  0.19536891,\n",
       "        0.19487927,  0.19401571,  0.19364392,  0.19279302,  0.19253877,\n",
       "        0.19202345,  0.19159012,  0.19128584,  0.19091832,  0.19028841,\n",
       "        0.1902581 ,  0.18949612,  0.18895666,  0.18852715,  0.18830837,\n",
       "        0.18800572,  0.18724717,  0.18689296,  0.18662706,  0.18638974,\n",
       "        0.18621142,  0.18570504,  0.1852884 ,  0.18472692,  0.18434956,\n",
       "        0.18413897,  0.18328751,  0.18310128,  0.18300036,  0.18255295,\n",
       "        0.18178304,  0.18123884,  0.18089934,  0.18044088,  0.18007533,\n",
       "        0.17989746,  0.17918407,  0.17896162,  0.17868584,  0.1781152 ,\n",
       "        0.17766243,  0.1775047 ,  0.17688348,  0.17673151,  0.17649661,\n",
       "        0.17608463,  0.17575142,  0.17557939,  0.17461326,  0.17434821,\n",
       "        0.17392947,  0.17374945,  0.17316873,  0.17278245,  0.17244068,\n",
       "        0.17180369,  0.17146109,  0.17104375,  0.17055775,  0.17045895,\n",
       "        0.17007781,  0.16954165,  0.16938415,  0.16913884,  0.16860538,\n",
       "        0.16838407,  0.16824263,  0.16760185,  0.16752953,  0.16698808,\n",
       "        0.16654469,  0.16635059,  0.16597945,  0.16581846,  0.16532635,\n",
       "        0.16493283,  0.16422126,  0.16397756,  0.16346677,  0.16332886,\n",
       "        0.1630039 ,  0.16263474,  0.16224724,  0.16162018,  0.16097136,\n",
       "        0.16090251,  0.1603101 ,  0.16010532,  0.15972544,  0.15939644,\n",
       "        0.15905408,  0.15884663,  0.15840883,  0.15805193,  0.15792978,\n",
       "        0.15728032,  0.15692108,  0.15683311,  0.15658024,  0.15618743,\n",
       "        0.15513943,  0.15507337,  0.1549578 ,  0.15429973,  0.15413357,\n",
       "        0.15376359,  0.15368013,  0.15329574,  0.15284967,  0.15260683,\n",
       "        0.15242384,  0.15201697,  0.15180786,  0.1515727 ,  0.15104125,\n",
       "        0.15088112,  0.15035119,  0.15020805,  0.14974486,  0.14969462,\n",
       "        0.14891243,  0.14870848,  0.14828601,  0.14822187,  0.14748106,\n",
       "        0.14729218,  0.14718962,  0.14705216,  0.14650612,  0.14627864,\n",
       "        0.14564417,  0.14563055,  0.14501039,  0.14494452,  0.1447536 ,\n",
       "        0.14436502,  0.14405045,  0.14388327,  0.14343604,  0.1431632 ,\n",
       "        0.14299654,  0.14291044,  0.14259267,  0.1416085 ,  0.14146281,\n",
       "        0.14105556,  0.14088039,  0.14060724,  0.14031691,  0.13984348,\n",
       "        0.13973399,  0.13951002,  0.13911515,  0.13887175,  0.13877104,\n",
       "        0.13849659,  0.13801262,  0.13773513,  0.13748976,  0.13705356,\n",
       "        0.13682206,  0.13643596,  0.1362107 ,  0.13588125,  0.13551469,\n",
       "        0.13534143,  0.13458376,  0.1343206 ,  0.13411718,  0.13384897,\n",
       "        0.13371593,  0.13328333,  0.13325105,  0.13266805,  0.13256152,\n",
       "        0.13244561,  0.13222564,  0.13176449,  0.13143717,  0.13111806,\n",
       "        0.13080718,  0.13069737,  0.13050628,  0.13006669,  0.12984775,\n",
       "        0.12956666,  0.12944256,  0.12895116,  0.12871064,  0.12832269,\n",
       "        0.12811964,  0.12793562,  0.12790117,  0.12737762,  0.12713841,\n",
       "        0.12676469,  0.12652619,  0.12627886,  0.12582488,  0.12580726,\n",
       "        0.12566637,  0.12537946,  0.1250627 ,  0.12471764,  0.1246241 ,\n",
       "        0.12416877,  0.124001  ,  0.12377951,  0.12342955,  0.12290767,\n",
       "        0.12247898,  0.12234037,  0.12205831,  0.1220202 ,  0.12163557,\n",
       "        0.1212713 ,  0.12107903,  0.12081428,  0.1205572 ,  0.1203417 ,\n",
       "        0.12007141,  0.11970767,  0.11933458,  0.11916782,  0.11867042,\n",
       "        0.11827708,  0.11824654,  0.1177226 ,  0.1176876 ,  0.11745458,\n",
       "        0.11699582,  0.11673805,  0.11660038,  0.11620427,  0.11588239,\n",
       "        0.11585791,  0.11544639,  0.11508155,  0.11487053,  0.11468222,\n",
       "        0.11449222,  0.1141993 ,  0.11401038,  0.11387847,  0.11353998,\n",
       "        0.113424  ,  0.11305258,  0.11255812,  0.11253427,  0.11230066,\n",
       "        0.1120694 ,  0.11181326,  0.11157295,  0.11137661,  0.11088456,\n",
       "        0.11081184,  0.11064509,  0.11025245,  0.1098598 ,  0.10948669,\n",
       "        0.10928984,  0.1092183 ,  0.10866727,  0.10842687,  0.10818589,\n",
       "        0.10815087,  0.10792046,  0.1076035 ,  0.1074686 ,  0.1071379 ,\n",
       "        0.1070609 ,  0.10661473,  0.10621553,  0.10606815,  0.10574007,\n",
       "        0.10553957,  0.10543952,  0.1050639 ,  0.10484962,  0.10472278,\n",
       "        0.10456387,  0.10432194,  0.10373981,  0.10363012,  0.10326429,\n",
       "        0.10295268,  0.10279381,  0.10259142,  0.10225449,  0.10219554,\n",
       "        0.10185756,  0.10159082,  0.10142824,  0.10117558,  0.10102722,\n",
       "        0.10059494,  0.10025313,  0.09996052,  0.09980193,  0.09946132,\n",
       "        0.09930319,  0.09908764,  0.09869792,  0.09861971,  0.09819429,\n",
       "        0.09790164,  0.09768152,  0.09754882,  0.09729544,  0.09706975,\n",
       "        0.09671814,  0.09659285,  0.09643196,  0.09638167,  0.09590485,\n",
       "        0.09585097,  0.09549582,  0.09530537,  0.09501501,  0.09477306,\n",
       "        0.09459956,  0.09448989,  0.09408261,  0.09406485,  0.09381062,\n",
       "        0.09330474,  0.09297301,  0.09286568,  0.09280408,  0.09238831,\n",
       "        0.09222202,  0.09206221,  0.09183264,  0.09164327,  0.09141731,\n",
       "        0.09103806,  0.09070568,  0.09064279,  0.09044667,  0.09031005,\n",
       "        0.0897746 ,  0.08966826,  0.08945334,  0.08936602,  0.08902167,\n",
       "        0.08881145,  0.08868082,  0.08849688,  0.08810765,  0.08789351,\n",
       "        0.08770179,  0.0874067 ,  0.08708315,  0.08688121,  0.08671992,\n",
       "        0.08663505,  0.08650985,  0.08621087,  0.08587213,  0.08574491,\n",
       "        0.08547567,  0.08516691,  0.08507033,  0.08461649,  0.0845416 ,\n",
       "        0.08431833,  0.08416584,  0.08378921,  0.08340036,  0.08330338,\n",
       "        0.08293345,  0.08278641,  0.08257389,  0.08235531,  0.08227085,\n",
       "        0.08194461,  0.081834  ,  0.08150852,  0.08128689,  0.08101385,\n",
       "        0.08098807,  0.08083678,  0.08053733,  0.07989859,  0.07954718,\n",
       "        0.07920971,  0.07894656,  0.0788481 ,  0.07876981,  0.07836929,\n",
       "        0.07824435,  0.07805834,  0.07790353,  0.07754468,  0.0772841 ,\n",
       "        0.07716159,  0.07710833,  0.07684882,  0.07652155,  0.07645839,\n",
       "        0.07597805,  0.07587802,  0.07558566,  0.07548512,  0.07508344,\n",
       "        0.07505654,  0.07463783,  0.07440812,  0.07386174,  0.07383621,\n",
       "        0.07368721,  0.07342264,  0.07316841,  0.07306637,  0.07260082,\n",
       "        0.07246421,  0.07231956,  0.07222637,  0.0719677 ,  0.07148418,\n",
       "        0.07140182,  0.07103112,  0.07072191,  0.07053923,  0.07034679,\n",
       "        0.0700463 ,  0.06977919,  0.06954266,  0.0693502 ,  0.06932331,\n",
       "        0.06895501,  0.06881179,  0.06847028,  0.06823102,  0.06796299,\n",
       "        0.06781219,  0.06756828,  0.06717559,  0.06693226,  0.06682531,\n",
       "        0.06653058,  0.06631726,  0.06614055,  0.06563922,  0.06544477,\n",
       "        0.06526413,  0.06492101,  0.0648814 ,  0.06468336,  0.0643897 ,\n",
       "        0.0641165 ,  0.06383862,  0.06354289,  0.06349341,  0.06316612,\n",
       "        0.06299525,  0.06253127,  0.06232945,  0.06223477,  0.0620381 ,\n",
       "        0.0616994 ,  0.06134898,  0.06098406,  0.06076235,  0.06058754,\n",
       "        0.06051397,  0.06010367,  0.05949303,  0.0593596 ,  0.05920904,\n",
       "        0.05876474,  0.05863427,  0.05795537,  0.05755493,  0.05751889,\n",
       "        0.05725017,  0.05701455,  0.05689451,  0.05663356,  0.05631108,\n",
       "        0.05600883,  0.05577592,  0.05543689,  0.05497991,  0.05473652,\n",
       "        0.05452668,  0.05388136,  0.05370625,  0.053301  ,  0.05315509,\n",
       "        0.05284164,  0.05266662,  0.05241568,  0.05216154,  0.05171788,\n",
       "        0.05165366,  0.05106338,  0.0504033 ,  0.05025843,  0.05009323,\n",
       "        0.0499365 ,  0.04976279,  0.04939316,  0.04914219,  0.04833118,\n",
       "        0.04798462,  0.04723837,  0.04692761,  0.04619012,  0.0457925 ])"
      ]
     },
     "execution_count": 116,
     "metadata": {},
     "output_type": "execute_result"
    }
   ],
   "source": [
    "evs"
   ]
  },
  {
   "cell_type": "code",
   "execution_count": 122,
   "metadata": {},
   "outputs": [
    {
     "data": {
      "text/plain": [
       "(array([2.039e+03, 7.000e+00, 1.000e+00, 0.000e+00, 0.000e+00, 0.000e+00,\n",
       "        0.000e+00, 0.000e+00, 0.000e+00, 1.000e+00]),\n",
       " array([ 0.03573997,  1.73900561,  3.44227125,  5.14553689,  6.84880253,\n",
       "         8.55206816, 10.2553338 , 11.95859944, 13.66186508, 15.36513072,\n",
       "        17.06839635]),\n",
       " <BarContainer object of 10 artists>)"
      ]
     },
     "execution_count": 122,
     "metadata": {},
     "output_type": "execute_result"
    },
    {
     "data": {
      "image/png": "[encoded data removed]",
      "text/plain": [
       "<Figure size 432x288 with 1 Axes>"
      ]
     },
     "metadata": {
      "needs_background": "light"
     },
     "output_type": "display_data"
    }
   ],
   "source": [
    "_,evs,_=np.linalg.svd(f.X)\n",
    "plt.hist(evs)"
   ]
  },
  {
   "cell_type": "code",
   "execution_count": 104,
   "metadata": {},
   "outputs": [
    {
     "data": {
      "text/plain": [
       "array([[-18.65899467],\n",
       "       [-41.1547183 ],\n",
       "       [-41.43940803],\n",
       "       ...,\n",
       "       [-72.10967333],\n",
       "       [-59.49561786],\n",
       "       [-82.49779108]])"
      ]
     },
     "execution_count": 104,
     "metadata": {},
     "output_type": "execute_result"
    }
   ],
   "source": [
    "f.grad(f.x0)"
   ]
  },
  {
   "cell_type": "code",
   "execution_count": 123,
   "metadata": {},
   "outputs": [
    {
     "name": "stderr",
     "output_type": "stream",
     "text": [
      "<ipython-input-120-a715a5709cf5>:13: RuntimeWarning: overflow encountered in double_scalars\n",
      "  self.log['f'].append(np.linalg.norm(f(x)**2))\n",
      "<ipython-input-97-4a8747d584ed>:51: RuntimeWarning: overflow encountered in matmul\n",
      "  return self.X.T@(self.X@x-self.y)\n",
      "<ipython-input-38-ec1cb2c84776>:37: RuntimeWarning: overflow encountered in multiply\n",
      "  x=x+(1-a)*(x1-x)+bt*f.grad(x)\n",
      "<ipython-input-97-4a8747d584ed>:51: RuntimeWarning: invalid value encountered in matmul\n",
      "  return self.X.T@(self.X@x-self.y)\n",
      "<ipython-input-38-ec1cb2c84776>:37: RuntimeWarning: overflow encountered in add\n",
      "  x=x+(1-a)*(x1-x)+bt*f.grad(x)\n",
      "<ipython-input-38-ec1cb2c84776>:37: RuntimeWarning: invalid value encountered in add\n",
      "  x=x+(1-a)*(x1-x)+bt*f.grad(x)\n",
      " 68%|██████████████████████████████████████████████████████                          | 135/200 [00:05<00:02, 23.96it/s]<ipython-input-97-4a8747d584ed>:48: RuntimeWarning: invalid value encountered in matmul\n",
      "  return 1/2*np.linalg.norm(self.X@x-self.y)**2\n",
      "100%|████████████████████████████████████████████████████████████████████████████████| 200/200 [00:08<00:00, 23.40it/s]\n"
     ]
    },
    {
     "data": {
      "text/plain": [
       "[<matplotlib.lines.Line2D at 0x1f597931e20>]"
      ]
     },
     "execution_count": 123,
     "metadata": {},
     "output_type": "execute_result"
    },
    {
     "name": "stderr",
     "output_type": "stream",
     "text": [
      "C:\\Users\\leona\\anaconda3\\lib\\site-packages\\numpy\\ma\\core.py:6849: RuntimeWarning: overflow encountered in power\n",
      "  result = np.where(m, fa, umath.power(fa, fb)).view(basetype)\n"
     ]
    },
    {
     "data": {
      "image/png": "[encoded data removed]",
      "text/plain": [
       "<Figure size 432x288 with 1 Axes>"
      ]
     },
     "metadata": {
      "needs_background": "light"
     },
     "output_type": "display_data"
    }
   ],
   "source": [
    "L=3\n",
    "log1,x1=jacobi_momentum(f,L=L)\n",
    "log2,x2=nesterov(f,L=L)\n",
    "plt.semilogy(log1['grad'],c='b')\n",
    "\n",
    "plt.semilogy(log2['grad'],c='r')"
   ]
  },
  {
   "cell_type": "code",
   "execution_count": 96,
   "metadata": {},
   "outputs": [
    {
     "data": {
      "text/plain": [
       "array([6., 9., 9., ..., 9., 1., 1.])"
      ]
     },
     "execution_count": 96,
     "metadata": {},
     "output_type": "execute_result"
    }
   ],
   "source": [
    "train_y"
   ]
  },
  {
   "cell_type": "code",
   "execution_count": 112,
   "metadata": {},
   "outputs": [
    {
     "data": {
      "text/plain": [
       "(1000, 2048)"
      ]
     },
     "execution_count": 112,
     "metadata": {},
     "output_type": "execute_result"
    }
   ],
   "source": [
    "_,evs"
   ]
  },
  {
   "cell_type": "code",
   "execution_count": 108,
   "metadata": {},
   "outputs": [
    {
     "name": "stdout",
     "output_type": "stream",
     "text": [
      "4850.974831567333\n"
     ]
    }
   ],
   "source": [
    "x0=f.x0\n",
    "print(f(x0)-f(x0-0.001*f.grad(x0)))"
   ]
  }
 ],
 "metadata": {
  "kernelspec": {
   "display_name": "Python 3",
   "language": "python",
   "name": "python3"
  },
  "language_info": {
   "codemirror_mode": {
    "name": "ipython",
    "version": 3
   },
   "file_extension": ".py",
   "mimetype": "text/x-python",
   "name": "python",
   "nbconvert_exporter": "python",
   "pygments_lexer": "ipython3",
   "version": "3.8.5"
  }
 },
 "nbformat": 4,
 "nbformat_minor": 4
}
